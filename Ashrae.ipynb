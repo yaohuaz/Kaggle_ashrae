{
 "nbformat": 4,
 "nbformat_minor": 2,
 "metadata": {
  "language_info": {
   "name": "python",
   "codemirror_mode": {
    "name": "ipython",
    "version": 3
   },
   "version": "3.7.3"
  },
  "orig_nbformat": 2,
  "file_extension": ".py",
  "mimetype": "text/x-python",
  "name": "python",
  "npconvert_exporter": "python",
  "pygments_lexer": "ipython3",
  "version": 3
 },
 "cells": [
  {
   "cell_type": "code",
   "execution_count": 1,
   "metadata": {},
   "outputs": [],
   "source": [
    "import numpy as np\n",
    "import pandas as pd\n",
    "import sklearn\n",
    "import matplotlib\n",
    "import seaborn"
   ]
  },
  {
   "cell_type": "code",
   "execution_count": 2,
   "metadata": {},
   "outputs": [
    {
     "name": "stdout",
     "output_type": "stream",
     "text": "/Users/yaohuazhao/SimVis\n"
    }
   ],
   "source": [
    "import os\n",
    "print(os.getcwd())"
   ]
  },
  {
   "cell_type": "code",
   "execution_count": 3,
   "metadata": {},
   "outputs": [],
   "source": [
    "#windows\n",
    "#building_metadata_df = pd.read_csv(\"/Users/yaohuazhao/Downloads/ashrae-energy-prediction/building_metadata.csv\")\n",
    "#test_df = pd.read_csv(\"/Users/yaohuazhao/Downloads/ashrae-energy-prediction/test.csv\")\n",
    "#train_df = pd.read_csv(\"/Users/yaohuazhao/Downloads/ashrae-energy-prediction/train.csv\")\n",
    "#weather_train_df = pd.read_csv(\"/Users/yaohuazhao/Downloads/ashrae-energy-prediction/weather_train.csv\")\n",
    "#weather_test_df = pd.read_csv(\"/Users/yaohuazhao/Downloads/ashrae-energy-prediction/weather_test.csv\")"
   ]
  },
  {
   "cell_type": "code",
   "execution_count": 4,
   "metadata": {},
   "outputs": [],
   "source": [
    "#Mac\n",
    "building_metadata_df = pd.read_csv(\"/Users/yaohuazhao/Downloads/ashrae-energy-prediction/building_metadata.csv\")\n",
    "test_df = pd.read_csv(\"/Users/yaohuazhao/Downloads/ashrae-energy-prediction/test.csv\")\n",
    "train_df = pd.read_csv(\"/Users/yaohuazhao/Downloads/ashrae-energy-prediction/train.csv\")\n",
    "weather_train_df = pd.read_csv(\"/Users/yaohuazhao/Downloads/ashrae-energy-prediction/weather_train.csv\")\n",
    "weather_test_df = pd.read_csv(\"/Users/yaohuazhao/Downloads/ashrae-energy-prediction/weather_test.csv\")\n"
   ]
  },
  {
   "cell_type": "code",
   "execution_count": 5,
   "metadata": {},
   "outputs": [
    {
     "name": "stdout",
     "output_type": "stream",
     "text": "buiding_metadata:  (1449, 6)\ntest:  (41697600, 4)\ntrain:  (20216100, 4)\nweather_train:  (139773, 9)\nweather_test:  (277243, 9)\n"
    }
   ],
   "source": [
    "#Data dimensions\n",
    "print(\"buiding_metadata: \",building_metadata_df.shape)\n",
    "print(\"test: \",test_df.shape)\n",
    "print(\"train: \",train_df.shape)\n",
    "print(\"weather_train: \",weather_train_df.shape)\n",
    "print(\"weather_test: \",weather_test_df.shape)"
   ]
  },
  {
   "cell_type": "code",
   "execution_count": 6,
   "metadata": {},
   "outputs": [
    {
     "data": {
      "text/html": "<div>\n<style scoped>\n    .dataframe tbody tr th:only-of-type {\n        vertical-align: middle;\n    }\n\n    .dataframe tbody tr th {\n        vertical-align: top;\n    }\n\n    .dataframe thead th {\n        text-align: right;\n    }\n</style>\n<table border=\"1\" class=\"dataframe\">\n  <thead>\n    <tr style=\"text-align: right;\">\n      <th></th>\n      <th>site_id</th>\n      <th>building_id</th>\n      <th>primary_use</th>\n      <th>square_feet</th>\n      <th>year_built</th>\n      <th>floor_count</th>\n    </tr>\n  </thead>\n  <tbody>\n    <tr>\n      <th>0</th>\n      <td>0</td>\n      <td>0</td>\n      <td>Education</td>\n      <td>7432</td>\n      <td>2008.0</td>\n      <td>NaN</td>\n    </tr>\n    <tr>\n      <th>1</th>\n      <td>0</td>\n      <td>1</td>\n      <td>Education</td>\n      <td>2720</td>\n      <td>2004.0</td>\n      <td>NaN</td>\n    </tr>\n    <tr>\n      <th>2</th>\n      <td>0</td>\n      <td>2</td>\n      <td>Education</td>\n      <td>5376</td>\n      <td>1991.0</td>\n      <td>NaN</td>\n    </tr>\n    <tr>\n      <th>3</th>\n      <td>0</td>\n      <td>3</td>\n      <td>Education</td>\n      <td>23685</td>\n      <td>2002.0</td>\n      <td>NaN</td>\n    </tr>\n    <tr>\n      <th>4</th>\n      <td>0</td>\n      <td>4</td>\n      <td>Education</td>\n      <td>116607</td>\n      <td>1975.0</td>\n      <td>NaN</td>\n    </tr>\n    <tr>\n      <th>5</th>\n      <td>0</td>\n      <td>5</td>\n      <td>Education</td>\n      <td>8000</td>\n      <td>2000.0</td>\n      <td>NaN</td>\n    </tr>\n    <tr>\n      <th>6</th>\n      <td>0</td>\n      <td>6</td>\n      <td>Lodging/residential</td>\n      <td>27926</td>\n      <td>1981.0</td>\n      <td>NaN</td>\n    </tr>\n    <tr>\n      <th>7</th>\n      <td>0</td>\n      <td>7</td>\n      <td>Education</td>\n      <td>121074</td>\n      <td>1989.0</td>\n      <td>NaN</td>\n    </tr>\n    <tr>\n      <th>8</th>\n      <td>0</td>\n      <td>8</td>\n      <td>Education</td>\n      <td>60809</td>\n      <td>2003.0</td>\n      <td>NaN</td>\n    </tr>\n    <tr>\n      <th>9</th>\n      <td>0</td>\n      <td>9</td>\n      <td>Office</td>\n      <td>27000</td>\n      <td>2010.0</td>\n      <td>NaN</td>\n    </tr>\n  </tbody>\n</table>\n</div>",
      "text/plain": "   site_id  building_id          primary_use  square_feet  year_built  \\\n0        0            0            Education         7432      2008.0   \n1        0            1            Education         2720      2004.0   \n2        0            2            Education         5376      1991.0   \n3        0            3            Education        23685      2002.0   \n4        0            4            Education       116607      1975.0   \n5        0            5            Education         8000      2000.0   \n6        0            6  Lodging/residential        27926      1981.0   \n7        0            7            Education       121074      1989.0   \n8        0            8            Education        60809      2003.0   \n9        0            9               Office        27000      2010.0   \n\n   floor_count  \n0          NaN  \n1          NaN  \n2          NaN  \n3          NaN  \n4          NaN  \n5          NaN  \n6          NaN  \n7          NaN  \n8          NaN  \n9          NaN  "
     },
     "execution_count": 6,
     "metadata": {},
     "output_type": "execute_result"
    }
   ],
   "source": [
    "#sample data\n",
    "building_metadata_df.head(10)\n"
   ]
  },
  {
   "cell_type": "code",
   "execution_count": 7,
   "metadata": {},
   "outputs": [
    {
     "name": "stdout",
     "output_type": "stream",
     "text": "<class 'pandas.core.frame.DataFrame'>\nRangeIndex: 41697600 entries, 0 to 41697599\nData columns (total 4 columns):\nrow_id         int64\nbuilding_id    int64\nmeter          int64\ntimestamp      object\ndtypes: int64(3), object(1)\nmemory usage: 1.2+ GB\n"
    }
   ],
   "source": [
    "test_df.info()"
   ]
  },
  {
   "cell_type": "code",
   "execution_count": 8,
   "metadata": {},
   "outputs": [
    {
     "name": "stdout",
     "output_type": "stream",
     "text": "<class 'pandas.core.frame.DataFrame'>\nRangeIndex: 20216100 entries, 0 to 20216099\nData columns (total 4 columns):\nbuilding_id      int64\nmeter            int64\ntimestamp        object\nmeter_reading    float64\ndtypes: float64(1), int64(2), object(1)\nmemory usage: 616.9+ MB\n"
    }
   ],
   "source": [
    "train_df.info()"
   ]
  },
  {
   "cell_type": "code",
   "execution_count": 9,
   "metadata": {},
   "outputs": [
    {
     "name": "stdout",
     "output_type": "stream",
     "text": "<class 'pandas.core.frame.DataFrame'>\nRangeIndex: 277243 entries, 0 to 277242\nData columns (total 9 columns):\nsite_id               277243 non-null int64\ntimestamp             277243 non-null object\nair_temperature       277139 non-null float64\ncloud_coverage        136795 non-null float64\ndew_temperature       276916 non-null float64\nprecip_depth_1_hr     181655 non-null float64\nsea_level_pressure    255978 non-null float64\nwind_direction        264873 non-null float64\nwind_speed            276783 non-null float64\ndtypes: float64(7), int64(1), object(1)\nmemory usage: 19.0+ MB\n"
    }
   ],
   "source": [
    "weather_test_df.info()"
   ]
  },
  {
   "cell_type": "code",
   "execution_count": 10,
   "metadata": {},
   "outputs": [
    {
     "name": "stdout",
     "output_type": "stream",
     "text": "<class 'pandas.core.frame.DataFrame'>\nRangeIndex: 139773 entries, 0 to 139772\nData columns (total 9 columns):\nsite_id               139773 non-null int64\ntimestamp             139773 non-null object\nair_temperature       139718 non-null float64\ncloud_coverage        70600 non-null float64\ndew_temperature       139660 non-null float64\nprecip_depth_1_hr     89484 non-null float64\nsea_level_pressure    129155 non-null float64\nwind_direction        133505 non-null float64\nwind_speed            139469 non-null float64\ndtypes: float64(7), int64(1), object(1)\nmemory usage: 9.6+ MB\n"
    }
   ],
   "source": [
    "weather_train_df.info()"
   ]
  },
  {
   "cell_type": "code",
   "execution_count": 11,
   "metadata": {},
   "outputs": [],
   "source": [
    "# Reduce memory size\n",
    "## Function to reduce the DF size\n",
    "#def reduce_mem_usage(df, verbose=True):\n",
    "#    numerics = ['int16', 'int32', 'int64', 'float16', 'float32', 'float64']\n",
    "#    start_mem = df.memory_usage().sum() / 1024**2    \n",
    "#    for col in df.columns:\n",
    "#        col_type = df[col].dtypes\n",
    "#        if col_type in numerics:\n",
    "#            c_min = df[col].min()\n",
    "#            c_max = df[col].max()\n",
    "#            if str(col_type)[:3] == 'int':\n",
    "#                if c_min > np.iinfo(np.int8).min and c_max < np.iinfo(np.int8).max:\n",
    "#                    df[col] = df[col].astype(np.int8)\n",
    "#                elif c_min > np.iinfo(np.int16).min and c_max < np.iinfo(np.int16).max:\n",
    "#                    df[col] = df[col].astype(np.int16)\n",
    "#                elif c_min > np.iinfo(np.int32).min and c_max < np.iinfo(np.int32).max:\n",
    "#                    df[col] = df[col].astype(np.int32)\n",
    "#                elif c_min > np.iinfo(np.int64).min and c_max < np.iinfo(np.int64).max:\n",
    "#                    df[col] = df[col].astype(np.int64)  \n",
    "#            else:\n",
    "#                if c_min > np.finfo(np.float16).min and c_max < np.finfo(np.float16).max:\n",
    "#                    df[col] = df[col].astype(np.float16)\n",
    "#                elif c_min > np.finfo(np.float32).min and c_max < np.finfo(np.float32).max:\n",
    "#                    df[col] = df[col].astype(np.float32)\n",
    "#                else:\n",
    "#                    df[col] = df[col].astype(np.float64)    \n",
    "#    end_mem = df.memory_usage().sum() / 1024**2\n",
    "#    if verbose: print('Mem. usage decreased to {:5.2f} Mb ({:.1f}% reduction)'.format(end_mem, 100 * #(start_mem - end_mem) / start_mem))\n",
    "#    return df"
   ]
  },
  {
   "cell_type": "code",
   "execution_count": 12,
   "metadata": {},
   "outputs": [],
   "source": [
    "#train_df = reduce_mem_usage(train_df)\n",
    "#test_df = reduce_mem_usage(test_df)\n",
    "\n",
    "#weather_train_df = reduce_mem_usage(weather_train_df)\n",
    "#weather_test_df = reduce_mem_usage(weather_test_df)\n",
    "#building_metadata_df = reduce_mem_usage(building_metadata_df)"
   ]
  },
  {
   "cell_type": "code",
   "execution_count": 13,
   "metadata": {},
   "outputs": [
    {
     "name": "stdout",
     "output_type": "stream",
     "text": "<class 'pandas.core.frame.DataFrame'>\nInt64Index: 20216100 entries, 0 to 20216099\nData columns (total 9 columns):\nbuilding_id      int64\nmeter            int64\ntimestamp        object\nmeter_reading    float64\nsite_id          int64\nprimary_use      object\nsquare_feet      int64\nyear_built       float64\nfloor_count      float64\ndtypes: float64(3), int64(4), object(2)\nmemory usage: 1.5+ GB\n"
    }
   ],
   "source": [
    "# join train_df, buiding_metadata_df, weather_train_df\n",
    "df1 = train_df.merge(building_metadata_df,on=\"building_id\",how=\"left\")\n",
    "#combined_train = combined_train1.merge(weather_train_df,on=\"site_id\",how=\"left\")\n",
    "df1.info()\n",
    "#combined_train.info()"
   ]
  },
  {
   "cell_type": "code",
   "execution_count": 14,
   "metadata": {},
   "outputs": [
    {
     "data": {
      "text/plain": "building_id             0\nmeter                   0\ntimestamp               0\nmeter_reading           0\nsite_id                 0\nprimary_use             0\nsquare_feet             0\nyear_built       12127645\nfloor_count      16709167\ndtype: int64"
     },
     "execution_count": 14,
     "metadata": {},
     "output_type": "execute_result"
    }
   ],
   "source": [
    "df1.isnull().sum()\n"
   ]
  },
  {
   "cell_type": "code",
   "execution_count": 15,
   "metadata": {},
   "outputs": [
    {
     "data": {
      "text/plain": "'2016-01-01 00:00:00'"
     },
     "execution_count": 15,
     "metadata": {},
     "output_type": "execute_result"
    }
   ],
   "source": [
    "#sample time\n",
    "df1.timestamp[0]"
   ]
  },
  {
   "cell_type": "code",
   "execution_count": 16,
   "metadata": {},
   "outputs": [],
   "source": [
    "#create month and hour columns\n",
    "df1[\"month\"] = df1[\"timestamp\"].apply(lambda x: int(x[5:7]))\n",
    "df1[\"hour\"] = df1[\"timestamp\"].apply(lambda x: int(x[11:13]))"
   ]
  },
  {
   "cell_type": "code",
   "execution_count": 17,
   "metadata": {},
   "outputs": [],
   "source": [
    "#change timestamp string to timestamp object\n",
    "from datetime import datetime\n",
    "df1[\"timestamp_new\"] = df1[\"timestamp\"].apply(lambda x: datetime.strptime(x,\"%Y-%m-%d %H:%M:%S\"))"
   ]
  },
  {
   "cell_type": "code",
   "execution_count": 18,
   "metadata": {},
   "outputs": [],
   "source": [
    "#add day of week\n",
    "df1[\"day_of_week\"] = df1[\"timestamp_new\"].apply(lambda x: x.weekday())"
   ]
  },
  {
   "cell_type": "code",
   "execution_count": 19,
   "metadata": {},
   "outputs": [
    {
     "name": "stdout",
     "output_type": "stream",
     "text": "<class 'pandas.core.frame.DataFrame'>\nInt64Index: 20216100 entries, 0 to 20216099\nData columns (total 12 columns):\nbuilding_id      int64\nmeter            int64\ntimestamp        object\nmeter_reading    float64\nsite_id          int64\nprimary_use      object\nsquare_feet      int64\nyear_built       float64\nfloor_count      float64\nmonth            int64\nhour             int64\nday_of_week      int64\ndtypes: float64(3), int64(7), object(2)\nmemory usage: 2.0+ GB\n"
    }
   ],
   "source": [
    "#drop unused columns\n",
    "df1.drop(['timestamp_new'],axis=1,inplace=True)\n",
    "df1.info()"
   ]
  },
  {
   "cell_type": "code",
   "execution_count": null,
   "metadata": {},
   "outputs": [],
   "source": []
  }
 ]
}